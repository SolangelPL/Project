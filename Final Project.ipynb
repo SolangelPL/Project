{
 "cells": [
  {
   "cell_type": "code",
   "execution_count": 146,
   "id": "99c0a09c",
   "metadata": {},
   "outputs": [],
   "source": [
    "import pandas as pd"
   ]
  },
  {
   "cell_type": "code",
   "execution_count": 147,
   "id": "2620788e",
   "metadata": {},
   "outputs": [],
   "source": [
    "manhattan = pd.read_csv('/Users/solangelpereyra-lagares/Documents/DS0110 - Final Project/Choosing Data/manhattan.csv')"
   ]
  },
  {
   "cell_type": "code",
   "execution_count": 148,
   "id": "e330aead",
   "metadata": {},
   "outputs": [
    {
     "data": {
      "text/html": [
       "<div>\n",
       "<style scoped>\n",
       "    .dataframe tbody tr th:only-of-type {\n",
       "        vertical-align: middle;\n",
       "    }\n",
       "\n",
       "    .dataframe tbody tr th {\n",
       "        vertical-align: top;\n",
       "    }\n",
       "\n",
       "    .dataframe thead th {\n",
       "        text-align: right;\n",
       "    }\n",
       "</style>\n",
       "<table border=\"1\" class=\"dataframe\">\n",
       "  <thead>\n",
       "    <tr style=\"text-align: right;\">\n",
       "      <th></th>\n",
       "      <th>rental_id</th>\n",
       "      <th>rent</th>\n",
       "      <th>bedrooms</th>\n",
       "      <th>bathrooms</th>\n",
       "      <th>size_sqft</th>\n",
       "      <th>min_to_subway</th>\n",
       "      <th>floor</th>\n",
       "      <th>building_age_yrs</th>\n",
       "      <th>no_fee</th>\n",
       "      <th>has_roofdeck</th>\n",
       "      <th>has_washer_dryer</th>\n",
       "      <th>has_doorman</th>\n",
       "      <th>has_elevator</th>\n",
       "      <th>has_dishwasher</th>\n",
       "      <th>has_patio</th>\n",
       "      <th>has_gym</th>\n",
       "      <th>neighborhood</th>\n",
       "      <th>borough</th>\n",
       "    </tr>\n",
       "  </thead>\n",
       "  <tbody>\n",
       "    <tr>\n",
       "      <th>0</th>\n",
       "      <td>1545</td>\n",
       "      <td>2550</td>\n",
       "      <td>0.0</td>\n",
       "      <td>1</td>\n",
       "      <td>480</td>\n",
       "      <td>9</td>\n",
       "      <td>2.0</td>\n",
       "      <td>17</td>\n",
       "      <td>1</td>\n",
       "      <td>1</td>\n",
       "      <td>0</td>\n",
       "      <td>0</td>\n",
       "      <td>1</td>\n",
       "      <td>1</td>\n",
       "      <td>0</td>\n",
       "      <td>1</td>\n",
       "      <td>Upper East Side</td>\n",
       "      <td>Manhattan</td>\n",
       "    </tr>\n",
       "    <tr>\n",
       "      <th>1</th>\n",
       "      <td>2472</td>\n",
       "      <td>11500</td>\n",
       "      <td>2.0</td>\n",
       "      <td>2</td>\n",
       "      <td>2000</td>\n",
       "      <td>4</td>\n",
       "      <td>1.0</td>\n",
       "      <td>96</td>\n",
       "      <td>0</td>\n",
       "      <td>0</td>\n",
       "      <td>0</td>\n",
       "      <td>0</td>\n",
       "      <td>0</td>\n",
       "      <td>0</td>\n",
       "      <td>0</td>\n",
       "      <td>0</td>\n",
       "      <td>Greenwich Village</td>\n",
       "      <td>Manhattan</td>\n",
       "    </tr>\n",
       "    <tr>\n",
       "      <th>2</th>\n",
       "      <td>2919</td>\n",
       "      <td>4500</td>\n",
       "      <td>1.0</td>\n",
       "      <td>1</td>\n",
       "      <td>916</td>\n",
       "      <td>2</td>\n",
       "      <td>51.0</td>\n",
       "      <td>29</td>\n",
       "      <td>0</td>\n",
       "      <td>1</td>\n",
       "      <td>0</td>\n",
       "      <td>1</td>\n",
       "      <td>1</td>\n",
       "      <td>1</td>\n",
       "      <td>0</td>\n",
       "      <td>0</td>\n",
       "      <td>Midtown</td>\n",
       "      <td>Manhattan</td>\n",
       "    </tr>\n",
       "    <tr>\n",
       "      <th>3</th>\n",
       "      <td>2790</td>\n",
       "      <td>4795</td>\n",
       "      <td>1.0</td>\n",
       "      <td>1</td>\n",
       "      <td>975</td>\n",
       "      <td>3</td>\n",
       "      <td>8.0</td>\n",
       "      <td>31</td>\n",
       "      <td>0</td>\n",
       "      <td>0</td>\n",
       "      <td>0</td>\n",
       "      <td>1</td>\n",
       "      <td>1</td>\n",
       "      <td>1</td>\n",
       "      <td>0</td>\n",
       "      <td>1</td>\n",
       "      <td>Greenwich Village</td>\n",
       "      <td>Manhattan</td>\n",
       "    </tr>\n",
       "    <tr>\n",
       "      <th>4</th>\n",
       "      <td>3946</td>\n",
       "      <td>17500</td>\n",
       "      <td>2.0</td>\n",
       "      <td>2</td>\n",
       "      <td>4800</td>\n",
       "      <td>3</td>\n",
       "      <td>4.0</td>\n",
       "      <td>136</td>\n",
       "      <td>0</td>\n",
       "      <td>0</td>\n",
       "      <td>0</td>\n",
       "      <td>1</td>\n",
       "      <td>1</td>\n",
       "      <td>1</td>\n",
       "      <td>0</td>\n",
       "      <td>1</td>\n",
       "      <td>Soho</td>\n",
       "      <td>Manhattan</td>\n",
       "    </tr>\n",
       "  </tbody>\n",
       "</table>\n",
       "</div>"
      ],
      "text/plain": [
       "   rental_id   rent  bedrooms  bathrooms  size_sqft  min_to_subway  floor  \\\n",
       "0       1545   2550       0.0          1        480              9    2.0   \n",
       "1       2472  11500       2.0          2       2000              4    1.0   \n",
       "2       2919   4500       1.0          1        916              2   51.0   \n",
       "3       2790   4795       1.0          1        975              3    8.0   \n",
       "4       3946  17500       2.0          2       4800              3    4.0   \n",
       "\n",
       "   building_age_yrs  no_fee  has_roofdeck  has_washer_dryer  has_doorman  \\\n",
       "0                17       1             1                 0            0   \n",
       "1                96       0             0                 0            0   \n",
       "2                29       0             1                 0            1   \n",
       "3                31       0             0                 0            1   \n",
       "4               136       0             0                 0            1   \n",
       "\n",
       "   has_elevator  has_dishwasher  has_patio  has_gym       neighborhood  \\\n",
       "0             1               1          0        1    Upper East Side   \n",
       "1             0               0          0        0  Greenwich Village   \n",
       "2             1               1          0        0            Midtown   \n",
       "3             1               1          0        1  Greenwich Village   \n",
       "4             1               1          0        1               Soho   \n",
       "\n",
       "     borough  \n",
       "0  Manhattan  \n",
       "1  Manhattan  \n",
       "2  Manhattan  \n",
       "3  Manhattan  \n",
       "4  Manhattan  "
      ]
     },
     "execution_count": 148,
     "metadata": {},
     "output_type": "execute_result"
    }
   ],
   "source": [
    "manhattan.head()"
   ]
  },
  {
   "cell_type": "code",
   "execution_count": 149,
   "id": "897d2c46",
   "metadata": {},
   "outputs": [],
   "source": [
    "manhattan1 = manhattan[['rent', 'neighborhood', 'bedrooms', 'floor']]"
   ]
  },
  {
   "cell_type": "code",
   "execution_count": 150,
   "id": "13aeae0b",
   "metadata": {},
   "outputs": [
    {
     "data": {
      "text/html": [
       "<div>\n",
       "<style scoped>\n",
       "    .dataframe tbody tr th:only-of-type {\n",
       "        vertical-align: middle;\n",
       "    }\n",
       "\n",
       "    .dataframe tbody tr th {\n",
       "        vertical-align: top;\n",
       "    }\n",
       "\n",
       "    .dataframe thead th {\n",
       "        text-align: right;\n",
       "    }\n",
       "</style>\n",
       "<table border=\"1\" class=\"dataframe\">\n",
       "  <thead>\n",
       "    <tr style=\"text-align: right;\">\n",
       "      <th></th>\n",
       "      <th>rent</th>\n",
       "      <th>neighborhood</th>\n",
       "      <th>bedrooms</th>\n",
       "      <th>floor</th>\n",
       "    </tr>\n",
       "  </thead>\n",
       "  <tbody>\n",
       "    <tr>\n",
       "      <th>0</th>\n",
       "      <td>2550</td>\n",
       "      <td>Upper East Side</td>\n",
       "      <td>0.0</td>\n",
       "      <td>2.0</td>\n",
       "    </tr>\n",
       "    <tr>\n",
       "      <th>1</th>\n",
       "      <td>11500</td>\n",
       "      <td>Greenwich Village</td>\n",
       "      <td>2.0</td>\n",
       "      <td>1.0</td>\n",
       "    </tr>\n",
       "    <tr>\n",
       "      <th>2</th>\n",
       "      <td>4500</td>\n",
       "      <td>Midtown</td>\n",
       "      <td>1.0</td>\n",
       "      <td>51.0</td>\n",
       "    </tr>\n",
       "    <tr>\n",
       "      <th>3</th>\n",
       "      <td>4795</td>\n",
       "      <td>Greenwich Village</td>\n",
       "      <td>1.0</td>\n",
       "      <td>8.0</td>\n",
       "    </tr>\n",
       "    <tr>\n",
       "      <th>4</th>\n",
       "      <td>17500</td>\n",
       "      <td>Soho</td>\n",
       "      <td>2.0</td>\n",
       "      <td>4.0</td>\n",
       "    </tr>\n",
       "    <tr>\n",
       "      <th>...</th>\n",
       "      <td>...</td>\n",
       "      <td>...</td>\n",
       "      <td>...</td>\n",
       "      <td>...</td>\n",
       "    </tr>\n",
       "    <tr>\n",
       "      <th>3534</th>\n",
       "      <td>4210</td>\n",
       "      <td>Chelsea</td>\n",
       "      <td>1.0</td>\n",
       "      <td>8.0</td>\n",
       "    </tr>\n",
       "    <tr>\n",
       "      <th>3535</th>\n",
       "      <td>6675</td>\n",
       "      <td>Tribeca</td>\n",
       "      <td>2.0</td>\n",
       "      <td>10.0</td>\n",
       "    </tr>\n",
       "    <tr>\n",
       "      <th>3536</th>\n",
       "      <td>1699</td>\n",
       "      <td>Little Italy</td>\n",
       "      <td>0.0</td>\n",
       "      <td>5.0</td>\n",
       "    </tr>\n",
       "    <tr>\n",
       "      <th>3537</th>\n",
       "      <td>3475</td>\n",
       "      <td>Midtown West</td>\n",
       "      <td>1.0</td>\n",
       "      <td>5.0</td>\n",
       "    </tr>\n",
       "    <tr>\n",
       "      <th>3538</th>\n",
       "      <td>4500</td>\n",
       "      <td>Tribeca</td>\n",
       "      <td>1.0</td>\n",
       "      <td>11.0</td>\n",
       "    </tr>\n",
       "  </tbody>\n",
       "</table>\n",
       "<p>3539 rows × 4 columns</p>\n",
       "</div>"
      ],
      "text/plain": [
       "       rent       neighborhood  bedrooms  floor\n",
       "0      2550    Upper East Side       0.0    2.0\n",
       "1     11500  Greenwich Village       2.0    1.0\n",
       "2      4500            Midtown       1.0   51.0\n",
       "3      4795  Greenwich Village       1.0    8.0\n",
       "4     17500               Soho       2.0    4.0\n",
       "...     ...                ...       ...    ...\n",
       "3534   4210            Chelsea       1.0    8.0\n",
       "3535   6675            Tribeca       2.0   10.0\n",
       "3536   1699       Little Italy       0.0    5.0\n",
       "3537   3475       Midtown West       1.0    5.0\n",
       "3538   4500            Tribeca       1.0   11.0\n",
       "\n",
       "[3539 rows x 4 columns]"
      ]
     },
     "execution_count": 150,
     "metadata": {},
     "output_type": "execute_result"
    }
   ],
   "source": [
    "manhattan1"
   ]
  },
  {
   "cell_type": "code",
   "execution_count": 151,
   "id": "4d9edc8c",
   "metadata": {},
   "outputs": [
    {
     "data": {
      "text/plain": [
       "<AxesSubplot:>"
      ]
     },
     "execution_count": 151,
     "metadata": {},
     "output_type": "execute_result"
    },
    {
     "data": {
      "image/png": "[encoded data removed]",
      "text/plain": [
       "<Figure size 432x288 with 1 Axes>"
      ]
     },
     "metadata": {
      "needs_background": "light"
     },
     "output_type": "display_data"
    }
   ],
   "source": [
    "manhattan1.rent.hist()"
   ]
  },
  {
   "cell_type": "code",
   "execution_count": 152,
   "id": "3fb27702",
   "metadata": {},
   "outputs": [],
   "source": [
    "import seaborn as sns"
   ]
  },
  {
   "cell_type": "code",
   "execution_count": 153,
   "id": "f1ee3ef1",
   "metadata": {},
   "outputs": [
    {
     "name": "stderr",
     "output_type": "stream",
     "text": [
      "/usr/local/Cellar/jupyterlab/3.3.2/libexec/lib/python3.9/site-packages/seaborn/distributions.py:2619: FutureWarning: `distplot` is a deprecated function and will be removed in a future version. Please adapt your code to use either `displot` (a figure-level function with similar flexibility) or `histplot` (an axes-level function for histograms).\n",
      "  warnings.warn(msg, FutureWarning)\n"
     ]
    },
    {
     "data": {
      "text/plain": [
       "<AxesSubplot:xlabel='rent', ylabel='Density'>"
      ]
     },
     "execution_count": 153,
     "metadata": {},
     "output_type": "execute_result"
    },
    {
     "data": {
      "image/png": "[encoded data removed]",
      "text/plain": [
       "<Figure size 432x288 with 1 Axes>"
      ]
     },
     "metadata": {
      "needs_background": "light"
     },
     "output_type": "display_data"
    }
   ],
   "source": [
    "sns.distplot(manhattan1['rent'])"
   ]
  },
  {
   "cell_type": "code",
   "execution_count": 154,
   "id": "a86b3e0a",
   "metadata": {},
   "outputs": [],
   "source": [
    "import matplotlib.mlab as mlab\n",
    "import matplotlib.pyplot as plt"
   ]
  },
  {
   "cell_type": "code",
   "execution_count": 155,
   "id": "af352a65",
   "metadata": {},
   "outputs": [
    {
     "data": {
      "text/plain": [
       "Text(0, 0.5, 'Neighborhood')"
      ]
     },
     "execution_count": 155,
     "metadata": {},
     "output_type": "execute_result"
    },
    {
     "data": {
      "image/png": "[encoded data removed]",
      "text/plain": [
       "<Figure size 432x288 with 1 Axes>"
      ]
     },
     "metadata": {
      "needs_background": "light"
     },
     "output_type": "display_data"
    }
   ],
   "source": [
    "Plot = manhattan1.plot.scatter(x='rent', y='neighborhood')\n",
    "Plot.set_title(\"Borough Manhattan\")\n",
    "Plot.set_xlabel(\"Rent\")\n",
    "Plot.set_ylabel(\"Neighborhood\")"
   ]
  },
  {
   "cell_type": "code",
   "execution_count": 156,
   "id": "9b86e714",
   "metadata": {},
   "outputs": [
    {
     "data": {
      "image/png": "[encoded data removed]",
      "text/plain": [
       "<Figure size 1440x1008 with 1 Axes>"
      ]
     },
     "metadata": {
      "needs_background": "light"
     },
     "output_type": "display_data"
    }
   ],
   "source": [
    "apt = manhattan1['neighborhood'].head(24)\n",
    "price = manhattan1['rent'].head(24)\n",
    "fig = plt.figure(figsize = (20, 14))\n",
    "plt.bar(apt[0:20], price[0:20])\n",
    "plt.show()"
   ]
  },
  {
   "cell_type": "code",
   "execution_count": 157,
   "id": "369744c2",
   "metadata": {},
   "outputs": [
    {
     "data": {
      "image/png": "[encoded data removed]",
      "text/plain": [
       "<Figure size 1440x1008 with 1 Axes>"
      ]
     },
     "metadata": {
      "needs_background": "light"
     },
     "output_type": "display_data"
    }
   ],
   "source": [
    "apt = manhattan1['neighborhood'].head(50)\n",
    "price = manhattan1['rent'].head(50)\n",
    "fig = plt.figure(figsize = (20, 14))\n",
    "plt.bar(apt[0:17], price[0:17])\n",
    "plt.show()"
   ]
  },
  {
   "cell_type": "code",
   "execution_count": 158,
   "id": "8ea929f9",
   "metadata": {},
   "outputs": [],
   "source": [
    "import numpy as np\n",
    "import scipy\n",
    "from scipy import stats\n",
    "from statsmodels.stats.multicomp import pairwise_tukeyhsd\n",
    "from statsmodels.stats.multicomp import MultiComparison"
   ]
  },
  {
   "cell_type": "code",
   "execution_count": 160,
   "id": "d3641dfe",
   "metadata": {},
   "outputs": [],
   "source": [
    "#Basic One-Way Anova "
   ]
  },
  {
   "cell_type": "code",
   "execution_count": 161,
   "id": "4ae307c2",
   "metadata": {},
   "outputs": [],
   "source": [
    "area = ['Battery Park City', 'Central Harlem', 'Central Park South', 'Chelsea', 'Chinatown', 'East Harlem', 'East Village', 'Financial District']\n",
    "manhattan3 = manhattan['neighborhood'].isin(area)\n",
    "manhattan4 = manhattan[manhattan3].copy()"
   ]
  },
  {
   "cell_type": "code",
   "execution_count": 162,
   "id": "d587d237",
   "metadata": {},
   "outputs": [],
   "source": [
    "#The data has 32 neighborhood. I filtered the dataset to 8 neighborhoods I wanted to use. "
   ]
  },
  {
   "cell_type": "code",
   "execution_count": 163,
   "id": "faec982f",
   "metadata": {},
   "outputs": [],
   "source": [
    "manhattan5 = manhattan4[['neighborhood','rent']]"
   ]
  },
  {
   "cell_type": "code",
   "execution_count": 164,
   "id": "fb02b2e4",
   "metadata": {},
   "outputs": [],
   "source": [
    "#Subsetting the only variables needed. Keeping the only variables I need for my test."
   ]
  },
  {
   "cell_type": "code",
   "execution_count": 166,
   "id": "d1c1d6f2",
   "metadata": {},
   "outputs": [
    {
     "name": "stdout",
     "output_type": "stream",
     "text": [
      "<class 'pandas.core.frame.DataFrame'>\n",
      "Int64Index: 816 entries, 5 to 3534\n",
      "Data columns (total 2 columns):\n",
      " #   Column        Non-Null Count  Dtype \n",
      "---  ------        --------------  ----- \n",
      " 0   neighborhood  816 non-null    object\n",
      " 1   rent          816 non-null    int64 \n",
      "dtypes: int64(1), object(1)\n",
      "memory usage: 19.1+ KB\n"
     ]
    }
   ],
   "source": [
    "manhattan5.info()"
   ]
  },
  {
   "cell_type": "code",
   "execution_count": 167,
   "id": "224b57ac",
   "metadata": {},
   "outputs": [],
   "source": [
    "#Running a .info() function to see if my dependent variable is an int. "
   ]
  },
  {
   "cell_type": "code",
   "execution_count": 168,
   "id": "6652adac",
   "metadata": {},
   "outputs": [
    {
     "name": "stderr",
     "output_type": "stream",
     "text": [
      "/var/folders/wc/v1m4qtgx38x71_rp2q7kknx40000gn/T/ipykernel_42541/855886330.py:19: SettingWithCopyWarning: \n",
      "A value is trying to be set on a copy of a slice from a DataFrame.\n",
      "Try using .loc[row_indexer,col_indexer] = value instead\n",
      "\n",
      "See the caveats in the documentation: https://pandas.pydata.org/pandas-docs/stable/user_guide/indexing.html#returning-a-view-versus-a-copy\n",
      "  manhattan5['neighborhoodR'] = manhattan5['neighborhood'].apply(recode)\n"
     ]
    }
   ],
   "source": [
    "def recode (series):\n",
    "    if series == \"Battery Park City\": \n",
    "        return 0\n",
    "    if series == \"Central Harlem\": \n",
    "        return 1\n",
    "    if series == \"Central Park South\": \n",
    "        return 2\n",
    "    if series == \"Chelsea\":\n",
    "        return 3\n",
    "    if series == \"Chinatown\":\n",
    "        return 4\n",
    "    if series == \"East Harlem\":\n",
    "        return 5\n",
    "    if series == \"East Village\":\n",
    "        return 6\n",
    "    if series == \"Financial District\":\n",
    "        return 7\n",
    "\n",
    "manhattan5['neighborhoodR'] = manhattan5['neighborhood'].apply(recode)"
   ]
  },
  {
   "cell_type": "code",
   "execution_count": 169,
   "id": "4d8a483c",
   "metadata": {},
   "outputs": [],
   "source": [
    "#Recoded my neighborhoods to numbers, due to post-hocs and assumptions won't take string values."
   ]
  },
  {
   "cell_type": "code",
   "execution_count": 170,
   "id": "85cd3f9a",
   "metadata": {},
   "outputs": [
    {
     "data": {
      "text/html": [
       "<div>\n",
       "<style scoped>\n",
       "    .dataframe tbody tr th:only-of-type {\n",
       "        vertical-align: middle;\n",
       "    }\n",
       "\n",
       "    .dataframe tbody tr th {\n",
       "        vertical-align: top;\n",
       "    }\n",
       "\n",
       "    .dataframe thead th {\n",
       "        text-align: right;\n",
       "    }\n",
       "</style>\n",
       "<table border=\"1\" class=\"dataframe\">\n",
       "  <thead>\n",
       "    <tr style=\"text-align: right;\">\n",
       "      <th></th>\n",
       "      <th>neighborhood</th>\n",
       "      <th>rent</th>\n",
       "      <th>neighborhoodR</th>\n",
       "    </tr>\n",
       "  </thead>\n",
       "  <tbody>\n",
       "    <tr>\n",
       "      <th>5</th>\n",
       "      <td>Central Harlem</td>\n",
       "      <td>3800</td>\n",
       "      <td>1</td>\n",
       "    </tr>\n",
       "    <tr>\n",
       "      <th>7</th>\n",
       "      <td>Battery Park City</td>\n",
       "      <td>2995</td>\n",
       "      <td>0</td>\n",
       "    </tr>\n",
       "    <tr>\n",
       "      <th>12</th>\n",
       "      <td>East Village</td>\n",
       "      <td>4875</td>\n",
       "      <td>6</td>\n",
       "    </tr>\n",
       "    <tr>\n",
       "      <th>21</th>\n",
       "      <td>Central Harlem</td>\n",
       "      <td>2450</td>\n",
       "      <td>1</td>\n",
       "    </tr>\n",
       "    <tr>\n",
       "      <th>24</th>\n",
       "      <td>East Harlem</td>\n",
       "      <td>2395</td>\n",
       "      <td>5</td>\n",
       "    </tr>\n",
       "  </tbody>\n",
       "</table>\n",
       "</div>"
      ],
      "text/plain": [
       "         neighborhood  rent  neighborhoodR\n",
       "5      Central Harlem  3800              1\n",
       "7   Battery Park City  2995              0\n",
       "12       East Village  4875              6\n",
       "21     Central Harlem  2450              1\n",
       "24        East Harlem  2395              5"
      ]
     },
     "execution_count": 170,
     "metadata": {},
     "output_type": "execute_result"
    }
   ],
   "source": [
    "manhattan5.head()"
   ]
  },
  {
   "cell_type": "code",
   "execution_count": 173,
   "id": "ab00d90c",
   "metadata": {},
   "outputs": [],
   "source": [
    "manhattan6 = manhattan5[['neighborhoodR','rent']]"
   ]
  },
  {
   "cell_type": "code",
   "execution_count": 174,
   "id": "d61f4730",
   "metadata": {},
   "outputs": [],
   "source": [
    "#Dropped the neighborhood column to keep the 2 varibles needed for my test."
   ]
  },
  {
   "cell_type": "code",
   "execution_count": 175,
   "id": "e207e96d",
   "metadata": {},
   "outputs": [
    {
     "data": {
      "text/html": [
       "<div>\n",
       "<style scoped>\n",
       "    .dataframe tbody tr th:only-of-type {\n",
       "        vertical-align: middle;\n",
       "    }\n",
       "\n",
       "    .dataframe tbody tr th {\n",
       "        vertical-align: top;\n",
       "    }\n",
       "\n",
       "    .dataframe thead th {\n",
       "        text-align: right;\n",
       "    }\n",
       "</style>\n",
       "<table border=\"1\" class=\"dataframe\">\n",
       "  <thead>\n",
       "    <tr style=\"text-align: right;\">\n",
       "      <th></th>\n",
       "      <th>neighborhoodR</th>\n",
       "      <th>rent</th>\n",
       "    </tr>\n",
       "  </thead>\n",
       "  <tbody>\n",
       "    <tr>\n",
       "      <th>5</th>\n",
       "      <td>1</td>\n",
       "      <td>3800</td>\n",
       "    </tr>\n",
       "    <tr>\n",
       "      <th>7</th>\n",
       "      <td>0</td>\n",
       "      <td>2995</td>\n",
       "    </tr>\n",
       "    <tr>\n",
       "      <th>12</th>\n",
       "      <td>6</td>\n",
       "      <td>4875</td>\n",
       "    </tr>\n",
       "    <tr>\n",
       "      <th>21</th>\n",
       "      <td>1</td>\n",
       "      <td>2450</td>\n",
       "    </tr>\n",
       "    <tr>\n",
       "      <th>24</th>\n",
       "      <td>5</td>\n",
       "      <td>2395</td>\n",
       "    </tr>\n",
       "  </tbody>\n",
       "</table>\n",
       "</div>"
      ],
      "text/plain": [
       "    neighborhoodR  rent\n",
       "5               1  3800\n",
       "7               0  2995\n",
       "12              6  4875\n",
       "21              1  2450\n",
       "24              5  2395"
      ]
     },
     "execution_count": 175,
     "metadata": {},
     "output_type": "execute_result"
    }
   ],
   "source": [
    "manhattan6.head()"
   ]
  },
  {
   "cell_type": "code",
   "execution_count": 176,
   "id": "a67740a0",
   "metadata": {},
   "outputs": [
    {
     "name": "stderr",
     "output_type": "stream",
     "text": [
      "/usr/local/Cellar/jupyterlab/3.3.2/libexec/lib/python3.9/site-packages/seaborn/distributions.py:2619: FutureWarning: `distplot` is a deprecated function and will be removed in a future version. Please adapt your code to use either `displot` (a figure-level function with similar flexibility) or `histplot` (an axes-level function for histograms).\n",
      "  warnings.warn(msg, FutureWarning)\n"
     ]
    },
    {
     "data": {
      "text/plain": [
       "<AxesSubplot:xlabel='rent', ylabel='Density'>"
      ]
     },
     "execution_count": 176,
     "metadata": {},
     "output_type": "execute_result"
    },
    {
     "data": {
      "image/png": "[encoded data removed]",
      "text/plain": [
       "<Figure size 432x288 with 1 Axes>"
      ]
     },
     "metadata": {
      "needs_background": "light"
     },
     "output_type": "display_data"
    }
   ],
   "source": [
    "sns.distplot(manhattan6['rent'])"
   ]
  },
  {
   "cell_type": "code",
   "execution_count": 177,
   "id": "ba3d2560",
   "metadata": {},
   "outputs": [],
   "source": [
    "#Running a Test Assumption to test the Normality of the dependent variable (rent)."
   ]
  },
  {
   "cell_type": "code",
   "execution_count": 181,
   "id": "186bad46",
   "metadata": {},
   "outputs": [],
   "source": [
    "manhattan6['rentSQRT'] = np.sqrt(manhattan6['rent'])"
   ]
  },
  {
   "cell_type": "code",
   "execution_count": 184,
   "id": "1fe49e06",
   "metadata": {},
   "outputs": [],
   "source": [
    "#Homogeneity of Variance(looking for the non-significant test)"
   ]
  },
  {
   "cell_type": "code",
   "execution_count": 185,
   "id": "8ad8b788",
   "metadata": {},
   "outputs": [
    {
     "data": {
      "text/plain": [
       "BartlettResult(statistic=1971.5502687807902, pvalue=0.0)"
      ]
     },
     "execution_count": 185,
     "metadata": {},
     "output_type": "execute_result"
    }
   ],
   "source": [
    "scipy.stats.bartlett(manhattan6['rentSQRT'], manhattan6['neighborhoodR'])"
   ]
  },
  {
   "cell_type": "code",
   "execution_count": 186,
   "id": "655fd08b",
   "metadata": {},
   "outputs": [],
   "source": [
    "#The Barlett Test is for when the data is normally distributed. \n",
    "#The p-value is <.05 meaning I have violated the assumption of Homogeneity of Variance."
   ]
  },
  {
   "cell_type": "code",
   "execution_count": 187,
   "id": "386eb84d",
   "metadata": {},
   "outputs": [
    {
     "data": {
      "text/plain": [
       "FlignerResult(statistic=605.2621964720422, pvalue=1.2001559406290343e-133)"
      ]
     },
     "execution_count": 187,
     "metadata": {},
     "output_type": "execute_result"
    }
   ],
   "source": [
    "scipy.stats.fligner(manhattan6['rentSQRT'], manhattan6['neighborhoodR'])"
   ]
  },
  {
   "cell_type": "code",
   "execution_count": 188,
   "id": "d5bdb8d9",
   "metadata": {},
   "outputs": [],
   "source": [
    "#The Fligner's Test is for when the data is non-parametric. \n",
    "#The p-value is < .05 meaning the assumption for Homogeneity was violated again."
   ]
  },
  {
   "cell_type": "code",
   "execution_count": 189,
   "id": "a52c4b41",
   "metadata": {},
   "outputs": [
    {
     "data": {
      "text/plain": [
       "F_onewayResult(statistic=34.25522448326238, pvalue=6.470939839652402e-42)"
      ]
     },
     "execution_count": 189,
     "metadata": {},
     "output_type": "execute_result"
    }
   ],
   "source": [
    "stats.f_oneway(manhattan['rent'][manhattan['neighborhood']=='Battery Park City'],\n",
    "                    manhattan['rent'][manhattan['neighborhood']=='Central Harlem'],\n",
    "                    manhattan['rent'][manhattan['neighborhood']=='Central Park South'],\n",
    "                    manhattan['rent'][manhattan['neighborhood']=='Chelsea'],\n",
    "                    manhattan['rent'][manhattan['neighborhood']=='Chinatown'],\n",
    "                    manhattan['rent'][manhattan['neighborhood']=='East Harlem'],\n",
    "                    manhattan['rent'][manhattan['neighborhood']=='East Village'],\n",
    "                    manhattan['rent'][manhattan['neighborhood']=='Financial District'])"
   ]
  },
  {
   "cell_type": "code",
   "execution_count": 190,
   "id": "af8abda8",
   "metadata": {},
   "outputs": [],
   "source": [
    "#Computing ANOVAs with Equal Variance (Met Homogeneity of Variance Assumption)"
   ]
  },
  {
   "cell_type": "code",
   "execution_count": 191,
   "id": "12f0550a",
   "metadata": {},
   "outputs": [
    {
     "name": "stdout",
     "output_type": "stream",
     "text": [
      " Multiple Comparison of Means - Tukey HSD, FWER=0.05  \n",
      "======================================================\n",
      "group1 group2 meandiff p-adj   lower    upper   reject\n",
      "------------------------------------------------------\n",
      "     0      1 -21.8896    0.0 -28.4831 -15.2961   True\n",
      "     0      2   9.1569 0.1225  -1.1304  19.4443  False\n",
      "     0      3   1.5887 0.9878  -3.8993   7.0767  False\n",
      "     0      4 -21.2661 0.0022 -37.6467  -4.8856   True\n",
      "     0      5 -25.4162    0.0 -33.6492 -17.1832   True\n",
      "     0      6 -10.9924    0.0 -17.1261  -4.8587   True\n",
      "     0      7 -10.9435    0.0 -16.1014  -5.7857   True\n",
      "     1      2  31.0465    0.0  20.5122  41.5808   True\n",
      "     1      3  23.4783    0.0  17.5403  29.4163   True\n",
      "     1      4   0.6234    1.0 -15.9134  17.1602  False\n",
      "     1      5  -3.5266 0.9148 -12.0662    5.013  False\n",
      "     1      6  10.8972    0.0   4.3578  17.4366   True\n",
      "     1      7   10.946    0.0   5.3117  16.5804   True\n",
      "     2      3  -7.5682 0.2797 -17.4483   2.3118  False\n",
      "     2      4 -30.4231    0.0 -48.7485 -12.0977   True\n",
      "     2      5 -34.5731    0.0 -46.2041 -22.9422   True\n",
      "     2      6 -20.1493    0.0 -30.4021  -9.8965   True\n",
      "     2      7 -20.1005    0.0 -29.8011 -10.3999   True\n",
      "     3      4 -22.8549 0.0005 -38.9828  -6.7269   True\n",
      "     3      5 -27.0049    0.0 -34.7229 -19.2869   True\n",
      "     3      6 -12.5811    0.0  -18.004  -7.1582   True\n",
      "     3      7 -12.5322    0.0 -16.8206  -8.2439   True\n",
      "     4      5    -4.15 0.9961 -21.4062  13.1061  False\n",
      "     4      6  10.2738 0.5454  -6.0852  26.6327  False\n",
      "     4      7  10.3226  0.511   -5.696  26.3412  False\n",
      "     5      6  14.4238    0.0    6.234  22.6136   True\n",
      "     5      7  14.4726    0.0   6.9857  21.9595   True\n",
      "     6      7   0.0488    1.0  -5.0397   5.1374  False\n",
      "------------------------------------------------------\n"
     ]
    }
   ],
   "source": [
    "postHoc = MultiComparison(manhattan6['rentSQRT'], manhattan6['neighborhoodR'])\n",
    "postHocResults = postHoc.tukeyhsd()\n",
    "print(postHocResults)"
   ]
  },
  {
   "cell_type": "code",
   "execution_count": 192,
   "id": "b7d8cb4f",
   "metadata": {},
   "outputs": [],
   "source": [
    "#Computing ANOVAs with Unequal Variance (Violated Homogeneity of Variance Assumption) \n",
    "#post-hocs to figure out what groups significantly differed from each other.\n",
    "#In the reject column is True, then this means there was a significant difference in the means between those groups."
   ]
  },
  {
   "cell_type": "code",
   "execution_count": 193,
   "id": "935da433",
   "metadata": {},
   "outputs": [
    {
     "data": {
      "text/html": [
       "<div>\n",
       "<style scoped>\n",
       "    .dataframe tbody tr th:only-of-type {\n",
       "        vertical-align: middle;\n",
       "    }\n",
       "\n",
       "    .dataframe tbody tr th {\n",
       "        vertical-align: top;\n",
       "    }\n",
       "\n",
       "    .dataframe thead th {\n",
       "        text-align: right;\n",
       "    }\n",
       "</style>\n",
       "<table border=\"1\" class=\"dataframe\">\n",
       "  <thead>\n",
       "    <tr style=\"text-align: right;\">\n",
       "      <th></th>\n",
       "      <th>rent</th>\n",
       "      <th>rentSQRT</th>\n",
       "    </tr>\n",
       "    <tr>\n",
       "      <th>neighborhoodR</th>\n",
       "      <th></th>\n",
       "      <th></th>\n",
       "    </tr>\n",
       "  </thead>\n",
       "  <tbody>\n",
       "    <tr>\n",
       "      <th>0</th>\n",
       "      <td>5968.961538</td>\n",
       "      <td>75.094335</td>\n",
       "    </tr>\n",
       "    <tr>\n",
       "      <th>1</th>\n",
       "      <td>2963.926829</td>\n",
       "      <td>53.204756</td>\n",
       "    </tr>\n",
       "    <tr>\n",
       "      <th>2</th>\n",
       "      <td>7506.956522</td>\n",
       "      <td>84.251282</td>\n",
       "    </tr>\n",
       "    <tr>\n",
       "      <th>3</th>\n",
       "      <td>6193.483516</td>\n",
       "      <td>76.683039</td>\n",
       "    </tr>\n",
       "    <tr>\n",
       "      <th>4</th>\n",
       "      <td>2955.625000</td>\n",
       "      <td>53.828187</td>\n",
       "    </tr>\n",
       "    <tr>\n",
       "      <th>5</th>\n",
       "      <td>2502.000000</td>\n",
       "      <td>49.678146</td>\n",
       "    </tr>\n",
       "    <tr>\n",
       "      <th>6</th>\n",
       "      <td>4304.361111</td>\n",
       "      <td>64.101946</td>\n",
       "    </tr>\n",
       "    <tr>\n",
       "      <th>7</th>\n",
       "      <td>4263.925373</td>\n",
       "      <td>64.150791</td>\n",
       "    </tr>\n",
       "  </tbody>\n",
       "</table>\n",
       "</div>"
      ],
      "text/plain": [
       "                      rent   rentSQRT\n",
       "neighborhoodR                        \n",
       "0              5968.961538  75.094335\n",
       "1              2963.926829  53.204756\n",
       "2              7506.956522  84.251282\n",
       "3              6193.483516  76.683039\n",
       "4              2955.625000  53.828187\n",
       "5              2502.000000  49.678146\n",
       "6              4304.361111  64.101946\n",
       "7              4263.925373  64.150791"
      ]
     },
     "execution_count": 193,
     "metadata": {},
     "output_type": "execute_result"
    }
   ],
   "source": [
    "manhattan6.groupby('neighborhoodR').mean()"
   ]
  },
  {
   "cell_type": "code",
   "execution_count": 194,
   "id": "ab583946",
   "metadata": {},
   "outputs": [],
   "source": [
    "#Examined the means, to determine which neighborhhod had the significant number of higher rent. Looking at the rent \n",
    "#column which has the means you can see Central Park South has the significant higher rents."
   ]
  },
  {
   "cell_type": "code",
   "execution_count": null,
   "id": "c80e7498",
   "metadata": {},
   "outputs": [],
   "source": []
  }
 ],
 "metadata": {
  "kernelspec": {
   "display_name": "Python 3 (ipykernel)",
   "language": "python",
   "name": "python3"
  },
  "language_info": {
   "codemirror_mode": {
    "name": "ipython",
    "version": 3
   },
   "file_extension": ".py",
   "mimetype": "text/x-python",
   "name": "python",
   "nbconvert_exporter": "python",
   "pygments_lexer": "ipython3",
   "version": "3.9.13"
  }
 },
 "nbformat": 4,
 "nbformat_minor": 5
}
